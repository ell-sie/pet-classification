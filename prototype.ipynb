{
  "nbformat": 4,
  "nbformat_minor": 0,
  "metadata": {
    "colab": {
      "provenance": [],
      "include_colab_link": true
    },
    "kernelspec": {
      "name": "python3",
      "display_name": "Python 3"
    },
    "language_info": {
      "name": "python"
    }
  },
  "cells": [
    {
      "cell_type": "markdown",
      "metadata": {
        "id": "view-in-github",
        "colab_type": "text"
      },
      "source": [
        "<a href=\"https://colab.research.google.com/github/ell-sie/pet-classification/blob/main/prototype.ipynb\" target=\"_parent\"><img src=\"https://colab.research.google.com/assets/colab-badge.svg\" alt=\"Open In Colab\"/></a>"
      ]
    },
    {
      "cell_type": "markdown",
      "source": [
        "# Optimization Techniques in Machine Learning\n",
        "\n",
        "---\n",
        "\n",
        "# Fashion MNIST Project\n",
        "* Group members and roles:\n",
        "  * Uwimbabazi Keza: Implemented model_1 & Documentation\n",
        "  * Martin Ndungu: Implemented model_2 & 3, Prediction analysis\n",
        "  * Cumi Oyemike: Implemented model_2 & 3, Prediction analysis\n",
        "  * Elsie Ndiramiye: Documentation\n",
        "  * Nino C. Nwachukwu: Model Architecture & Documentation\n"
      ],
      "metadata": {
        "id": "ujuLMxSvoXbg"
      }
    },
    {
      "cell_type": "markdown",
      "source": [
        "# Project Overview\n",
        "\n",
        "The primary aim of the project was to leverage deep learning techniques to classify clothing items depicted in the Fashion MNIST dataset. By training a neural network on this dataset, we aimed to create a model that could automatically recognize and categorize clothing items into their respective classes."
      ],
      "metadata": {
        "id": "As8QMzcmRSuy"
      }
    },
    {
      "cell_type": "markdown",
      "source": [
        "\n",
        "# Case Study and Implementation\n",
        "\n",
        "\n"
      ],
      "metadata": {
        "id": "o8VW_IzbI3od"
      }
    },
    {
      "cell_type": "code",
      "source": [
        "import numpy as np\n",
        "import tensorflow as tf\n",
        "import pandas as pd\n",
        "import sklearn\n",
        "from sklearn.model_selection import train_test_split\n",
        "from sklearn.preprocessing import StandardScaler\n",
        "import matplotlib.pyplot as plt\n",
        "from tensorflow.keras import regularizers\n",
        "from tensorflow.keras.optimizers import Adam\n",
        "from tensorflow.keras.models import load_model\n",
        "from tensorflow.keras.callbacks import EarlyStopping, ModelCheckpoint"
      ],
      "metadata": {
        "id": "wGCnpzs9M4Fd"
      },
      "execution_count": null,
      "outputs": []
    },
    {
      "cell_type": "markdown",
      "source": [
        "# The Dataset\n",
        "We used the Fashion MNIST dataset, which consists of grayscale images of various fashion items. The dataset provides a collection of grayscale images of various clothing items belonging to 10 distinct categories. Each image is a 28x28 pixel representation, making it suitable for training and evaluating machine learning models.\n",
        "\n",
        "Data Preparation:\n",
        "We loaded and preprocessed the Fashion MNIST dataset, which included normalizing the image pixel values and splitting the data into training, validation, and test sets.\n"
      ],
      "metadata": {
        "id": "M1FN7bFeIxfH"
      }
    },
    {
      "cell_type": "code",
      "source": [
        "#TO DO: Load Data (Seprate into: Train, Validation and test sets)\n",
        "fashion_data = tf.keras.datasets.fashion_mnist\n",
        "(x_train, y_train), (x_test, y_test) = fashion_data.load_data()\n",
        "\n",
        "#preprocess data to create range between 0 and 1\n",
        "x_train = x_train / 255.0\n",
        "x_test = x_test / 255.0\n",
        "\n",
        "#labels converted into binary vectors\n",
        "#y_train = tf.keras.utils.to_categorical(y_train, num_classes=10)\n",
        "#y_test = tf.keras.utils.to_categorical(y_test, num_classes=10)\n",
        "\n",
        "# Split the data into training and validation sets\n",
        "x_train, x_val, y_train, y_val = train_test_split(x_train, y_train, test_size=0.2, random_state=42)"
      ],
      "metadata": {
        "id": "nas-T7xwPIso",
        "colab": {
          "base_uri": "https://localhost:8080/"
        },
        "outputId": "8bbe2045-6b33-4509-a093-c7ffd1a4da62"
      },
      "execution_count": null,
      "outputs": [
        {
          "output_type": "stream",
          "name": "stdout",
          "text": [
            "Downloading data from https://storage.googleapis.com/tensorflow/tf-keras-datasets/train-labels-idx1-ubyte.gz\n",
            "29515/29515 [==============================] - 0s 0us/step\n",
            "Downloading data from https://storage.googleapis.com/tensorflow/tf-keras-datasets/train-images-idx3-ubyte.gz\n",
            "26421880/26421880 [==============================] - 0s 0us/step\n",
            "Downloading data from https://storage.googleapis.com/tensorflow/tf-keras-datasets/t10k-labels-idx1-ubyte.gz\n",
            "5148/5148 [==============================] - 0s 0us/step\n",
            "Downloading data from https://storage.googleapis.com/tensorflow/tf-keras-datasets/t10k-images-idx3-ubyte.gz\n",
            "4422102/4422102 [==============================] - 0s 0us/step\n"
          ]
        }
      ]
    },
    {
      "cell_type": "markdown",
      "source": [
        "# SECTION 1: Model Implementation"
      ],
      "metadata": {
        "id": "hE9oQm8OZSvO"
      }
    },
    {
      "cell_type": "markdown",
      "source": [
        "#Task: Model Architecture:\n",
        "\n",
        "\n",
        "\n",
        "```\n",
        "TODO: Insert an image with the Model architecture here.Replace the image Below\n",
        "```\n",
        "> <img src=\"https://miro.medium.com/v2/resize:fit:640/format:webp/1*v1ohAG82xmU6WGsG2hoE8g.png\" alt=\"?\" style=\"width:25px\"/>\n",
        "\n",
        "\n"
      ],
      "metadata": {
        "id": "ve4AiQmGMzIN"
      }
    },
    {
      "cell_type": "markdown",
      "source": [
        "#Task: Create A Model Without any Optimization techniques\n"
      ],
      "metadata": {
        "id": "QR4BNYoUMzMP"
      }
    },
    {
      "cell_type": "code",
      "source": [
        "model_1= tf.keras.Sequential([\n",
        "    tf.keras.layers.Flatten(input_shape=(28, 28)),\n",
        "    tf.keras.layers.Dense(128, activation=tf.nn.relu),\n",
        "    tf.keras.layers.Dense(64, activation=tf.nn.relu),\n",
        "    tf.keras.layers.Dense(10, activation=tf.nn.softmax)\n",
        "])\n"
      ],
      "metadata": {
        "id": "gGtPmYb_SDHy"
      },
      "execution_count": null,
      "outputs": []
    },
    {
      "cell_type": "code",
      "source": [
        "model_1.compile(loss= tf.losses.SparseCategoricalCrossentropy(from_logits=True), metrics=['accuracy'])"
      ],
      "metadata": {
        "id": "kzcWeOk-Sy9x"
      },
      "execution_count": null,
      "outputs": []
    },
    {
      "cell_type": "markdown",
      "source": [
        "# Task: Print out the Final Model Accuracy and plot the Loss curve"
      ],
      "metadata": {
        "id": "KJ9OXp1TSaXn"
      }
    },
    {
      "cell_type": "code",
      "source": [
        "from typing import ParamSpecArgs\n",
        "#history = model_1.fit(ParamSpecArgs)"
      ],
      "metadata": {
        "id": "6O11JorTY3z-"
      },
      "execution_count": null,
      "outputs": []
    },
    {
      "cell_type": "code",
      "source": [
        "# Train the model\n",
        "history = model_1.fit(x_train, y_train, epochs=10, batch_size=64, validation_data=(x_val, y_val))\n",
        "\n",
        "# Evaluate the model on the test set\n",
        "test_loss, test_acc = model_1.evaluate(x_test, y_test)\n",
        "print(f'Test accuracy: {test_acc}')\n",
        "\n",
        "loss = history.history['loss']\n",
        "val_loss = history.history['val_loss']\n",
        "\n",
        "# Plot loss curves\n",
        "epochs = range(1, len(loss) + 1)\n",
        "plt.plot(epochs, loss, 'bo', label='Training loss')\n",
        "plt.plot(epochs, val_loss, 'r', label='Validation loss')\n",
        "plt.title('Training and Validation Loss')\n",
        "plt.xlabel('Epochs')\n",
        "plt.ylabel('Loss')\n",
        "plt.legend()\n",
        "plt.show()"
      ],
      "metadata": {
        "id": "fkihQBsaUxGh",
        "colab": {
          "base_uri": "https://localhost:8080/",
          "height": 908
        },
        "outputId": "36216a1e-ca10-4b2e-d4ca-7636410ec5e9"
      },
      "execution_count": null,
      "outputs": [
        {
          "output_type": "stream",
          "name": "stdout",
          "text": [
            "Epoch 1/10\n"
          ]
        },
        {
          "output_type": "stream",
          "name": "stderr",
          "text": [
            "/usr/local/lib/python3.10/dist-packages/keras/src/backend.py:5727: UserWarning: \"`sparse_categorical_crossentropy` received `from_logits=True`, but the `output` argument was produced by a Softmax activation and thus does not represent logits. Was this intended?\n",
            "  output, from_logits = _get_logits(\n"
          ]
        },
        {
          "output_type": "stream",
          "name": "stdout",
          "text": [
            "750/750 [==============================] - 5s 5ms/step - loss: 0.5488 - accuracy: 0.8048 - val_loss: 0.4182 - val_accuracy: 0.8466\n",
            "Epoch 2/10\n",
            "750/750 [==============================] - 3s 4ms/step - loss: 0.3910 - accuracy: 0.8563 - val_loss: 0.3811 - val_accuracy: 0.8600\n",
            "Epoch 3/10\n",
            "750/750 [==============================] - 3s 4ms/step - loss: 0.3508 - accuracy: 0.8714 - val_loss: 0.3426 - val_accuracy: 0.8757\n",
            "Epoch 4/10\n",
            "750/750 [==============================] - 4s 5ms/step - loss: 0.3253 - accuracy: 0.8797 - val_loss: 0.3763 - val_accuracy: 0.8638\n",
            "Epoch 5/10\n",
            "750/750 [==============================] - 3s 4ms/step - loss: 0.3063 - accuracy: 0.8866 - val_loss: 0.3454 - val_accuracy: 0.8809\n",
            "Epoch 6/10\n",
            "750/750 [==============================] - 3s 4ms/step - loss: 0.2934 - accuracy: 0.8920 - val_loss: 0.3809 - val_accuracy: 0.8700\n",
            "Epoch 7/10\n",
            "750/750 [==============================] - 3s 4ms/step - loss: 0.2813 - accuracy: 0.8954 - val_loss: 0.3369 - val_accuracy: 0.8767\n",
            "Epoch 8/10\n",
            "750/750 [==============================] - 4s 5ms/step - loss: 0.2711 - accuracy: 0.8986 - val_loss: 0.3353 - val_accuracy: 0.8861\n",
            "Epoch 9/10\n",
            "750/750 [==============================] - 3s 4ms/step - loss: 0.2604 - accuracy: 0.9032 - val_loss: 0.3613 - val_accuracy: 0.8793\n",
            "Epoch 10/10\n",
            "750/750 [==============================] - 3s 4ms/step - loss: 0.2533 - accuracy: 0.9057 - val_loss: 0.3490 - val_accuracy: 0.8851\n",
            "313/313 [==============================] - 1s 2ms/step - loss: 0.3743 - accuracy: 0.8782\n",
            "Test accuracy: 0.8781999945640564\n"
          ]
        },
        {
          "output_type": "display_data",
          "data": {
            "text/plain": [
              "<Figure size 640x480 with 1 Axes>"
            ],
            "image/png": "[encoded data removed]"
          },
          "metadata": {}
        }
      ]
    },
    {
      "cell_type": "code",
      "source": [
        "model_1.predict(x_test)[0]\n",
        "#y_test[0]"
      ],
      "metadata": {
        "colab": {
          "base_uri": "https://localhost:8080/"
        },
        "id": "-a0cFGa1AVCE",
        "outputId": "23169f65-8929-47f4-92ba-6639037dc074"
      },
      "execution_count": null,
      "outputs": [
        {
          "output_type": "stream",
          "name": "stdout",
          "text": [
            "313/313 [==============================] - 1s 2ms/step\n"
          ]
        },
        {
          "output_type": "execute_result",
          "data": {
            "text/plain": [
              "array([1.4515480e-07, 1.0394650e-11, 1.8978547e-08, 9.1687184e-08,\n",
              "       1.7675021e-07, 2.5432292e-04, 3.7313181e-05, 1.8111402e-03,\n",
              "       1.7483033e-07, 9.9789673e-01], dtype=float32)"
            ]
          },
          "metadata": {},
          "execution_count": 10
        }
      ]
    },
    {
      "cell_type": "markdown",
      "source": [
        "# SECTION 2: Optimization and Regularization implementation\n",
        "At this point you should now create a model that is more optimized in order to see better perfomance.\n",
        "As done before make sure to plot out the loss curve and the accuracy and loss in verbose"
      ],
      "metadata": {
        "id": "9hc6k2taT0_n"
      }
    },
    {
      "cell_type": "code",
      "source": [
        "#TODO:implement with L1 regularization,batch normalization, and Adam optimizer\n",
        "# implement early stopping\n",
        "early_stopping = EarlyStopping(monitor='val_loss', patience=3, restore_best_weights=True)\n",
        "model_2= tf.keras.Sequential([\n",
        "    tf.keras.layers.Flatten(input_shape=(28, 28)),\n",
        "    # include batch normalization\n",
        "    tf.keras.layers.BatchNormalization(),\n",
        "    # tf.keras.layers.Dense(256, activation=tf.nn.relu, kernel_regularizer=regularizers.l1(0.001)),\n",
        "    tf.keras.layers.Dense(128, activation=tf.nn.relu, kernel_regularizer=regularizers.l1(0.001)),\n",
        "    tf.keras.layers.Dense(64, activation=tf.nn.relu,  kernel_regularizer=regularizers.l1(0.001)),\n",
        "    tf.keras.layers.Dense(10, activation=tf.nn.softmax)\n",
        "])\n",
        "# compile model_2\n",
        "model_2.compile(optimizer=Adam(), loss= tf.losses.SparseCategoricalCrossentropy(from_logits=True), metrics=['accuracy'])\n",
        "# Train,evaluate and pring the model\n",
        "history = model_2.fit(x_train, y_train, epochs=10, batch_size=64, validation_data=(x_val, y_val))\n",
        "\n",
        "# Evaluate the model on the test set\n",
        "test_loss, test_acc = model_2.evaluate(x_test, y_test)\n",
        "print(f'Test accuracy: {test_acc}')\n",
        "\n",
        "loss = history.history['loss']\n",
        "val_loss = history.history['val_loss']\n",
        "\n",
        "# Plot loss curves\n",
        "epochs = range(1, len(loss) + 1)\n",
        "plt.plot(epochs, loss, 'bo', label='Training loss')\n",
        "plt.plot(epochs, val_loss, 'r', label='Validation loss')\n",
        "plt.title('Training and Validation Loss')\n",
        "plt.xlabel('Epochs')\n",
        "plt.ylabel('Loss')\n",
        "plt.legend()\n",
        "plt.show()"
      ],
      "metadata": {
        "id": "nr6HuVEtXvoP",
        "colab": {
          "base_uri": "https://localhost:8080/",
          "height": 854
        },
        "outputId": "01abc2c2-83e4-42f2-9ccc-b3efe49bc41a"
      },
      "execution_count": null,
      "outputs": [
        {
          "output_type": "stream",
          "name": "stdout",
          "text": [
            "Epoch 1/10\n",
            "750/750 [==============================] - 6s 7ms/step - loss: 1.9177 - accuracy: 0.8119 - val_loss: 0.9248 - val_accuracy: 0.8338\n",
            "Epoch 2/10\n",
            "750/750 [==============================] - 4s 5ms/step - loss: 0.8001 - accuracy: 0.8352 - val_loss: 0.6915 - val_accuracy: 0.8450\n",
            "Epoch 3/10\n",
            "750/750 [==============================] - 5s 6ms/step - loss: 0.6717 - accuracy: 0.8415 - val_loss: 0.6399 - val_accuracy: 0.8468\n",
            "Epoch 4/10\n",
            "750/750 [==============================] - 4s 5ms/step - loss: 0.6283 - accuracy: 0.8481 - val_loss: 0.6279 - val_accuracy: 0.8442\n",
            "Epoch 5/10\n",
            "750/750 [==============================] - 4s 5ms/step - loss: 0.6074 - accuracy: 0.8488 - val_loss: 0.6032 - val_accuracy: 0.8451\n",
            "Epoch 6/10\n",
            "750/750 [==============================] - 5s 6ms/step - loss: 0.5937 - accuracy: 0.8503 - val_loss: 0.5979 - val_accuracy: 0.8479\n",
            "Epoch 7/10\n",
            "750/750 [==============================] - 4s 5ms/step - loss: 0.5761 - accuracy: 0.8534 - val_loss: 0.6004 - val_accuracy: 0.8461\n",
            "Epoch 8/10\n",
            "750/750 [==============================] - 4s 5ms/step - loss: 0.5703 - accuracy: 0.8537 - val_loss: 0.5604 - val_accuracy: 0.8567\n",
            "Epoch 9/10\n",
            "750/750 [==============================] - 5s 6ms/step - loss: 0.5580 - accuracy: 0.8564 - val_loss: 0.5602 - val_accuracy: 0.8506\n",
            "Epoch 10/10\n",
            "750/750 [==============================] - 4s 5ms/step - loss: 0.5530 - accuracy: 0.8556 - val_loss: 0.5766 - val_accuracy: 0.8468\n",
            "313/313 [==============================] - 1s 2ms/step - loss: 0.5984 - accuracy: 0.8439\n",
            "Test accuracy: 0.8439000248908997\n"
          ]
        },
        {
          "output_type": "display_data",
          "data": {
            "text/plain": [
              "<Figure size 640x480 with 1 Axes>"
            ],
            "image/png": "[encoded data removed]"
          },
          "metadata": {}
        }
      ]
    },
    {
      "cell_type": "markdown",
      "source": [],
      "metadata": {
        "id": "lcGshG5RWdFI"
      }
    },
    {
      "cell_type": "markdown",
      "source": [],
      "metadata": {
        "id": "53HI8ADFWbqt"
      }
    },
    {
      "cell_type": "code",
      "source": [
        "#TODO:implement with L2 regularization,batch normalization, and Adam optimizer\n",
        "early_stopping = EarlyStopping(monitor='val_loss', patience=3, restore_best_weights=True)\n",
        "model_3= tf.keras.Sequential([\n",
        "    tf.keras.layers.Flatten(input_shape=(28, 28)),\n",
        "    # include batch normalization\n",
        "    tf.keras.layers.BatchNormalization(),\n",
        "    # tf.keras.layers.Dense(256, activation=tf.nn.relu, kernel_regularizer=regularizers.l2(0.001)),\n",
        "    tf.keras.layers.Dense(128, activation=tf.nn.relu, kernel_regularizer=regularizers.l2(0.001)),\n",
        "    tf.keras.layers.Dense(64, activation=tf.nn.relu,  kernel_regularizer=regularizers.l2(0.001)),\n",
        "    tf.keras.layers.Dense(10, activation=tf.nn.softmax)\n",
        "])\n",
        "# compile model_3\n",
        "model_3.compile(optimizer=Adam(), loss= tf.losses.SparseCategoricalCrossentropy(from_logits=True), metrics=['accuracy'])\n",
        "# Train,evaluate and pring the model\n",
        "history = model_3.fit(x_train, y_train, epochs=10, batch_size=64, validation_data=(x_val, y_val))\n",
        "\n",
        "# Evaluate the model on the test set\n",
        "test_loss, test_acc = model_3.evaluate(x_test, y_test)\n",
        "print(f'Test accuracy: {test_acc}')\n",
        "\n",
        "loss = history.history['loss']\n",
        "val_loss = history.history['val_loss']\n",
        "\n",
        "# Plot loss curves\n",
        "epochs = range(1, len(loss) + 1)\n",
        "plt.plot(epochs, loss, 'bo', label='Training loss')\n",
        "plt.plot(epochs, val_loss, 'r', label='Validation loss')\n",
        "plt.title('Training and Validation Loss')\n",
        "plt.xlabel('Epochs')\n",
        "plt.ylabel('Loss')\n",
        "plt.legend()\n",
        "plt.show()\n"
      ],
      "metadata": {
        "id": "UygzqjB-Xvgo",
        "colab": {
          "base_uri": "https://localhost:8080/",
          "height": 854
        },
        "outputId": "d1d35758-7759-4ebd-8280-e20dd0c6b39c"
      },
      "execution_count": null,
      "outputs": [
        {
          "output_type": "stream",
          "name": "stdout",
          "text": [
            "Epoch 1/10\n",
            "750/750 [==============================] - 6s 5ms/step - loss: 0.7134 - accuracy: 0.8314 - val_loss: 0.5783 - val_accuracy: 0.8611\n",
            "Epoch 2/10\n",
            "750/750 [==============================] - 5s 6ms/step - loss: 0.5245 - accuracy: 0.8666 - val_loss: 0.4913 - val_accuracy: 0.8706\n",
            "Epoch 3/10\n",
            "750/750 [==============================] - 4s 5ms/step - loss: 0.4627 - accuracy: 0.8747 - val_loss: 0.4843 - val_accuracy: 0.8644\n",
            "Epoch 4/10\n",
            "750/750 [==============================] - 4s 5ms/step - loss: 0.4356 - accuracy: 0.8786 - val_loss: 0.4446 - val_accuracy: 0.8744\n",
            "Epoch 5/10\n",
            "750/750 [==============================] - 5s 6ms/step - loss: 0.4176 - accuracy: 0.8836 - val_loss: 0.4378 - val_accuracy: 0.8752\n",
            "Epoch 6/10\n",
            "750/750 [==============================] - 4s 5ms/step - loss: 0.4102 - accuracy: 0.8826 - val_loss: 0.4281 - val_accuracy: 0.8767\n",
            "Epoch 7/10\n",
            "750/750 [==============================] - 4s 5ms/step - loss: 0.3963 - accuracy: 0.8867 - val_loss: 0.4240 - val_accuracy: 0.8799\n",
            "Epoch 8/10\n",
            "750/750 [==============================] - 5s 6ms/step - loss: 0.3943 - accuracy: 0.8856 - val_loss: 0.4131 - val_accuracy: 0.8827\n",
            "Epoch 9/10\n",
            "750/750 [==============================] - 4s 5ms/step - loss: 0.3843 - accuracy: 0.8892 - val_loss: 0.4272 - val_accuracy: 0.8768\n",
            "Epoch 10/10\n",
            "750/750 [==============================] - 4s 5ms/step - loss: 0.3799 - accuracy: 0.8900 - val_loss: 0.4236 - val_accuracy: 0.8769\n",
            "313/313 [==============================] - 1s 2ms/step - loss: 0.4383 - accuracy: 0.8747\n",
            "Test accuracy: 0.8747000098228455\n"
          ]
        },
        {
          "output_type": "display_data",
          "data": {
            "text/plain": [
              "<Figure size 640x480 with 1 Axes>"
            ],
            "image/png": "[encoded data removed]"
          },
          "metadata": {}
        }
      ]
    },
    {
      "cell_type": "code",
      "source": [
        "\n",
        "# Save the entire model to a HDF5 file\n",
        "model_3.save('model_3.h5')\n"
      ],
      "metadata": {
        "id": "yn6qGpSAs4Vd",
        "colab": {
          "base_uri": "https://localhost:8080/"
        },
        "outputId": "e74506e7-4d3f-40ff-daf8-81a784c8e8c8"
      },
      "execution_count": null,
      "outputs": [
        {
          "output_type": "stream",
          "name": "stderr",
          "text": [
            "/usr/local/lib/python3.10/dist-packages/keras/src/engine/training.py:3103: UserWarning: You are saving your model as an HDF5 file via `model.save()`. This file format is considered legacy. We recommend using instead the native Keras format, e.g. `model.save('my_model.keras')`.\n",
            "  saving_api.save_model(\n"
          ]
        }
      ]
    },
    {
      "cell_type": "code",
      "source": [],
      "metadata": {
        "id": "9NEtnjqxXvXm"
      },
      "execution_count": null,
      "outputs": []
    },
    {
      "cell_type": "markdown",
      "source": [
        "#Task: Make Predictions using the best saved model\n"
      ],
      "metadata": {
        "id": "3aZLEriYOXI1"
      }
    },
    {
      "cell_type": "markdown",
      "source": [
        "Create a confusion Matrix and F1 score for both Models. Ensure outputs for the cells are visible"
      ],
      "metadata": {
        "id": "LnBLwqTJX3p0"
      }
    },
    {
      "cell_type": "code",
      "source": [
        "# confusion matrix and F1 score for model3\n",
        "from sklearn.metrics import confusion_matrix, f1_score\n",
        "import numpy as np\n",
        "\n",
        "# Make predictions on the test set\n",
        "y_pred = np.argmax(model_3.predict(x_test), axis=1)\n",
        "\n",
        "# Compute the confusion matrix\n",
        "conf_matrix = confusion_matrix(y_test, y_pred)\n",
        "\n",
        "# Calculate the F1 score\n",
        "f1 = f1_score(y_test, y_pred, average='macro')\n",
        "\n",
        "print(\"Confusion Matrix:\")\n",
        "print(conf_matrix)\n",
        "print(\"\\nF1 Score:\", f1)\n"
      ],
      "metadata": {
        "colab": {
          "base_uri": "https://localhost:8080/"
        },
        "id": "OCCSWtEucXZk",
        "outputId": "9b6fe0be-beb2-4742-d2ec-95bd97675baf"
      },
      "execution_count": null,
      "outputs": [
        {
          "output_type": "stream",
          "name": "stdout",
          "text": [
            "313/313 [==============================] - 1s 2ms/step\n",
            "Confusion Matrix:\n",
            "[[865   2  15  23   3   1  75   0  16   0]\n",
            " [  1 968   4  19   4   0   3   0   1   0]\n",
            " [ 18   0 800  10 123   1  45   0   3   0]\n",
            " [ 28   9  12 889  25   0  31   0   6   0]\n",
            " [  0   0  75  44 810   0  59   0  12   0]\n",
            " [  0   0   0   1   0 933   0  50   6  10]\n",
            " [141   2  99  27  70   0 643   0  18   0]\n",
            " [  0   0   0   0   0   8   0 978   1  13]\n",
            " [  3   0   4   5   3   2   6   4 973   0]\n",
            " [  0   0   0   0   0  15   1  60   0 924]]\n",
            "\n",
            "F1 Score: 0.8773371304198554\n"
          ]
        }
      ]
    },
    {
      "cell_type": "code",
      "source": [
        "# confusion matrix for model2\n",
        "from sklearn.metrics import confusion_matrix, f1_score\n",
        "import numpy as np\n",
        "\n",
        "# Make predictions on the test set\n",
        "y_pred = np.argmax(model_2.predict(x_test), axis=1)\n",
        "\n",
        "# Compute the confusion matrix\n",
        "conf_matrix = confusion_matrix(y_test, y_pred)\n",
        "\n",
        "# Calculate the F1 score\n",
        "f1 = f1_score(y_test, y_pred, average='macro')\n",
        "\n",
        "print(\"Confusion Matrix:\")\n",
        "print(conf_matrix)\n",
        "print(\"\\nF1 Score:\", f1)"
      ],
      "metadata": {
        "colab": {
          "base_uri": "https://localhost:8080/"
        },
        "id": "PvHINz1pdQ1G",
        "outputId": "415e2b9f-9ff0-413d-a2a4-c90c007dc4cf"
      },
      "execution_count": null,
      "outputs": [
        {
          "output_type": "stream",
          "name": "stdout",
          "text": [
            "313/313 [==============================] - 1s 2ms/step\n",
            "Confusion Matrix:\n",
            "[[823   1  17  37   2   1 106   0  13   0]\n",
            " [  8 957   4  24   2   0   5   0   0   0]\n",
            " [ 17   1 768   9 137   1  63   0   4   0]\n",
            " [ 48   8   7 866  33   0  32   0   5   1]\n",
            " [  0   0 120  40 777   0  56   0   7   0]\n",
            " [  0   0   0   1   0 925   0  52   4  18]\n",
            " [146   3 127  39  93   0 571   0  21   0]\n",
            " [  0   0   0   0   0  25   0 965   0  10]\n",
            " [  1   1  11   5   5   2   5   6 964   0]\n",
            " [  0   0   0   0   0  18   1  97   0 884]]\n",
            "\n",
            "F1 Score: 0.848909308379848\n"
          ]
        }
      ]
    },
    {
      "cell_type": "markdown",
      "source": [
        "Finally, Make predictions using the best model. By the time you get to this cell you may realise at some point you needed to save the model so that you cal load it later"
      ],
      "metadata": {
        "id": "bO79SOsZYG-M"
      }
    },
    {
      "cell_type": "code",
      "source": [
        "def make_predictions(model_path, X):\n",
        "\n",
        "    # Load the model\n",
        "    model = load_model(model_path)\n",
        "\n",
        "    # Make predictions\n",
        "    predictions = model(X)\n",
        "    # Convert probabilities to binary labels (0 or 1)\n",
        "    binary_predictions = (predictions > 0.5).numpy().astype(int)\n",
        "\n",
        "    return binary_predictions\n",
        "\n",
        "#Modify the code appropriately"
      ],
      "metadata": {
        "id": "Nqqe2PasUIAG"
      },
      "execution_count": null,
      "outputs": []
    },
    {
      "cell_type": "code",
      "source": [
        "model_path = 'model_3.h5'\n",
        "make_predictions(model_path, x_test)"
      ],
      "metadata": {
        "id": "O_jwbvaAUMj4",
        "colab": {
          "base_uri": "https://localhost:8080/"
        },
        "outputId": "563afa78-88fc-4c46-b6f5-2cebb535266b"
      },
      "execution_count": null,
      "outputs": [
        {
          "output_type": "execute_result",
          "data": {
            "text/plain": [
              "array([[0, 0, 0, ..., 0, 0, 1],\n",
              "       [0, 0, 1, ..., 0, 0, 0],\n",
              "       [0, 1, 0, ..., 0, 0, 0],\n",
              "       ...,\n",
              "       [0, 0, 0, ..., 0, 1, 0],\n",
              "       [0, 1, 0, ..., 0, 0, 0],\n",
              "       [0, 0, 0, ..., 0, 0, 0]])"
            ]
          },
          "metadata": {},
          "execution_count": 20
        }
      ]
    },
    {
      "cell_type": "markdown",
      "source": [
        "# Comparing L1 & L2 Regularization\n",
        "\n",
        "L1 applies a penalty based on the absolute values of the weights which may result in some weights being absolutely 0 because it creates sparsity in the model. It is useful in feature selection by removing features that are less important.\n",
        "\n",
        "In contrast, L2 reduces the weights and encourages more evenly distributed weights. It but does not reduce them to 0 nor encourage sparsity as L1 does. L2 is used to prevent multicollinearity, reducing highly correlated features in the dataset which would otherwise make it difficult for a model to distinguish their individual contributions.\n",
        "\n",
        "According to our results we found that L2 regularization worked better for our model overall."
      ],
      "metadata": {
        "id": "S6cIsmroNfSD"
      }
    },
    {
      "cell_type": "markdown",
      "source": [
        "Congratulations!!\n"
      ],
      "metadata": {
        "id": "rfTHk2nZMzTH"
      }
    }
  ]
}